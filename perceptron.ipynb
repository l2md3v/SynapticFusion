{
  "cells": [
    {
      "cell_type": "markdown",
      "metadata": {
        "id": "a5W7VQoE7hRy"
      },
      "source": [
        "<h1 align=\"center\">Perceptron</h1>"
      ]
    },
    {
      "cell_type": "markdown",
      "metadata": {
        "id": "TIwurqch7hR2"
      },
      "source": [
        "## Import Libraries"
      ]
    },
    {
      "cell_type": "code",
      "execution_count": 338,
      "metadata": {
        "id": "mH2-DPJ17hR3"
      },
      "outputs": [],
      "source": [
        "import numpy as np\n",
        "import pandas as pd\n",
        "import matplotlib.pyplot as plt"
      ]
    },
    {
      "cell_type": "code",
      "execution_count": 339,
      "metadata": {
        "id": "bWcU4QnA7hR5"
      },
      "outputs": [],
      "source": [
        "from sklearn.model_selection import train_test_split\n",
        "from sklearn.metrics import mean_squared_error"
      ]
    },
    {
      "cell_type": "markdown",
      "metadata": {
        "id": "smr6iES07hR8"
      },
      "source": [
        "## Activation Function"
      ]
    },
    {
      "cell_type": "code",
      "execution_count": 340,
      "metadata": {
        "id": "Bm32iZLU7hR9"
      },
      "outputs": [],
      "source": [
        "def step(x):\n",
        "    return np.where(x >= 0, 1, 0)\n",
        "\n",
        "\n",
        "def linear(x: np.ndarray):\n",
        "    return x\n",
        "\n",
        "\n",
        "def sigmoid(x: np.ndarray):\n",
        "    return 1 / (1 + np.exp(-x))"
      ]
    },
    {
      "cell_type": "markdown",
      "metadata": {
        "id": "3M4lQFvs7hR-"
      },
      "source": [
        "## The perceptron using loop through a fixed number of epochs\n",
        "- Initialize the weights and the bias\n",
        "- Loop through the epochs\n",
        "- Loop through the training data\n",
        "- Calculate the weighted sum of the inputs and the weights\n",
        "- Apply the activation function\n",
        "- Update the weights and the bias"
      ]
    },
    {
      "cell_type": "code",
      "execution_count": 341,
      "metadata": {
        "id": "z2aLj--r7hR-"
      },
      "outputs": [],
      "source": [
        "class Perceptron:\n",
        "    def __init__(self, learning_rate=0.01, n_iters=1000, act=step):\n",
        "        self.lr = learning_rate\n",
        "        self.n_iters = n_iters\n",
        "        self.activation_func = act\n",
        "\n",
        "        self.weights = None\n",
        "        self.bias = None\n",
        "\n",
        "    def fit(self, X: np.ndarray, y: np.ndarray) -> None:\n",
        "        n_samples, n_features = X.shape\n",
        "\n",
        "        # Initialize parameters\n",
        "        self.weights = np.random.rand(n_features)\n",
        "        self.bias = 0\n",
        "\n",
        "        for _ in range(self.n_iters):\n",
        "            for idx, x_i in enumerate(X):\n",
        "                y_predicted = self.predict(x_i)\n",
        "\n",
        "                # Update weights and bias using delta rule\n",
        "                update = self.lr * (y[idx] - y_predicted)\n",
        "                self.weights += update * x_i\n",
        "                self.bias += update\n",
        "\n",
        "    def predict(self, X: np.ndarray) -> np.ndarray:\n",
        "        net = np.dot(X, self.weights) + self.bias\n",
        "        return self.activation_func(net)"
      ]
    },
    {
      "cell_type": "markdown",
      "metadata": {
        "id": "f8kGI5Xo7hSB"
      },
      "source": [
        "### Products Prediction"
      ]
    },
    {
      "cell_type": "markdown",
      "metadata": {
        "id": "aEdbsTb57hSD"
      },
      "source": [
        "#### Initial and clean data\n",
        "- Read the data from the file `data/prod-train.csv`\n",
        "- Map the `Type` column to a numerical value\n",
        "- Split the data into the X and Y \n",
        "- Split the data into the training and testing data"
      ]
    },
    {
      "cell_type": "code",
      "execution_count": 342,
      "metadata": {
        "id": "LRmI_RgC7hSE"
      },
      "outputs": [],
      "source": [
        "prod_train = pd.read_csv(\"data/prod-train.csv\")"
      ]
    },
    {
      "cell_type": "code",
      "execution_count": 343,
      "metadata": {
        "id": "AVVSg1g67hSG"
      },
      "outputs": [],
      "source": [
        "type_mappings = {\"Chair\": 0, \"Table\": 1, \"Bed\": 2}"
      ]
    },
    {
      "cell_type": "code",
      "execution_count": 344,
      "metadata": {
        "id": "MeSD55Hf7hSI"
      },
      "outputs": [],
      "source": [
        "# Feature selection\n",
        "features = [\"Width\", \"Height\"]\n",
        "\n",
        "# Slipt data into X and Y\n",
        "X = prod_train[features].values\n",
        "Y = prod_train[\"Type\"].map(type_mappings).values"
      ]
    },
    {
      "cell_type": "code",
      "execution_count": 345,
      "metadata": {
        "id": "1ajKxuh77hSJ"
      },
      "outputs": [],
      "source": [
        "# Split data into training and testing\n",
        "X_train, X_test, y_train, y_test = train_test_split(\n",
        "    X, Y, test_size=0.2, random_state=69\n",
        ")"
      ]
    },
    {
      "cell_type": "markdown",
      "metadata": {
        "id": "zLlfrd2q7hSL"
      },
      "source": [
        "#### Training the Model\n",
        "- Train the model using the training data\n",
        "- Plot the loss function"
      ]
    },
    {
      "cell_type": "code",
      "execution_count": 346,
      "metadata": {
        "id": "mQruM0017hSM",
        "outputId": "d254729e-b5f4-4821-eb36-8ec965023dcf"
      },
      "outputs": [
        {
          "name": "stdout",
          "output_type": "stream",
          "text": [
            "lr=0.01: mse=0.5\n",
            "lr=0.02: mse=0.5\n",
            "lr=0.001: mse=0.0\n",
            "lr=0.002: mse=0.5\n"
          ]
        },
        {
          "data": {
            "image/png": "[encoded data removed]",
            "text/plain": [
              "<Figure size 640x480 with 1 Axes>"
            ]
          },
          "metadata": {},
          "output_type": "display_data"
        }
      ],
      "source": [
        "for lr in [0.01, 0.02, 0.001, 0.002]:\n",
        "    p = Perceptron(learning_rate=lr, n_iters=1000, act=linear)\n",
        "    p.fit(X_train, y_train)\n",
        "\n",
        "    y_pred = np.round(p.predict(X_test))\n",
        "\n",
        "    print(f\"lr={lr}: mse={mean_squared_error(y_test, y_pred)}\")\n",
        "    plt.plot(X_test, y_pred, label=f\"lr={lr}\")\n",
        "\n",
        "plt.legend()\n",
        "plt.show()"
      ]
    },
    {
      "cell_type": "markdown",
      "metadata": {
        "id": "jhY7p06T7hSO"
      },
      "source": [
        "#### Testing the Model\n",
        "- Test the model using the testing data from the file `data/prod-test.csv`"
      ]
    },
    {
      "cell_type": "code",
      "execution_count": 347,
      "metadata": {
        "id": "FUj1o1bt7hSR"
      },
      "outputs": [],
      "source": [
        "p = Perceptron(learning_rate=0.01, n_iters=1000, act=linear)"
      ]
    },
    {
      "cell_type": "code",
      "execution_count": 348,
      "metadata": {
        "id": "V5eiF3VU7hSS"
      },
      "outputs": [],
      "source": [
        "p.fit(X, Y)"
      ]
    },
    {
      "cell_type": "code",
      "execution_count": 349,
      "metadata": {
        "id": "DggDu5Pr7hSW"
      },
      "outputs": [],
      "source": [
        "prod_test = pd.read_csv(\"data/prod-test.csv\")"
      ]
    },
    {
      "cell_type": "code",
      "execution_count": 350,
      "metadata": {
        "id": "KHuse3B17hSX",
        "outputId": "950c5954-a987-4ac7-9ef7-1231bf287d5b"
      },
      "outputs": [
        {
          "data": {
            "text/html": [
              "<div>\n",
              "<style scoped>\n",
              "    .dataframe tbody tr th:only-of-type {\n",
              "        vertical-align: middle;\n",
              "    }\n",
              "\n",
              "    .dataframe tbody tr th {\n",
              "        vertical-align: top;\n",
              "    }\n",
              "\n",
              "    .dataframe thead th {\n",
              "        text-align: right;\n",
              "    }\n",
              "</style>\n",
              "<table border=\"1\" class=\"dataframe\">\n",
              "  <thead>\n",
              "    <tr style=\"text-align: right;\">\n",
              "      <th></th>\n",
              "      <th>Width</th>\n",
              "      <th>Height</th>\n",
              "      <th>Type</th>\n",
              "    </tr>\n",
              "  </thead>\n",
              "  <tbody>\n",
              "    <tr>\n",
              "      <th>0</th>\n",
              "      <td>0.35</td>\n",
              "      <td>0.35</td>\n",
              "      <td>Chair</td>\n",
              "    </tr>\n",
              "    <tr>\n",
              "      <th>1</th>\n",
              "      <td>0.85</td>\n",
              "      <td>0.70</td>\n",
              "      <td>Table</td>\n",
              "    </tr>\n",
              "    <tr>\n",
              "      <th>2</th>\n",
              "      <td>1.40</td>\n",
              "      <td>0.45</td>\n",
              "      <td>Bed</td>\n",
              "    </tr>\n",
              "  </tbody>\n",
              "</table>\n",
              "</div>"
            ],
            "text/plain": [
              "   Width  Height   Type\n",
              "0   0.35    0.35  Chair\n",
              "1   0.85    0.70  Table\n",
              "2   1.40    0.45    Bed"
            ]
          },
          "execution_count": 350,
          "metadata": {},
          "output_type": "execute_result"
        }
      ],
      "source": [
        "y_pred = np.round(p.predict(prod_test.values))\n",
        "\n",
        "pd.DataFrame(\n",
        "    {\"Width\": prod_test[\"Width\"], \"Height\": prod_test[\"Height\"], \"Type\": y_pred}\n",
        ").replace({v: k for k, v in type_mappings.items()})"
      ]
    },
    {
      "cell_type": "markdown",
      "metadata": {},
      "source": [
        "## The perceptron using error correction\n",
        "- Initialize the weights and the bias\n",
        "- Infinite loop until the error less than a threshold\n",
        "- Loop through the training data\n",
        "- Calculate the weighted sum of the inputs and the weights\n",
        "- Apply the activation function\n",
        "- Update the weights and the bias\n",
        "- Update the error"
      ]
    },
    {
      "cell_type": "code",
      "execution_count": 351,
      "metadata": {},
      "outputs": [],
      "source": [
        "class PerceptronE:\n",
        "    def __init__(self, learning_rate=0.01, epsilon=0.1, act=step, is_print=True):\n",
        "        self.lr = learning_rate\n",
        "        self.epsilon = epsilon\n",
        "        self.activation_func = act\n",
        "        self.is_print = is_print\n",
        "\n",
        "        self.weights = None\n",
        "        self.bias = None\n",
        "\n",
        "    def fit(self, X: np.ndarray, y: np.ndarray) -> None:\n",
        "        n_samples, n_features = X.shape\n",
        "\n",
        "        # Initialize parameters\n",
        "        self.weights = np.random.rand(n_features)\n",
        "        self.bias = 0\n",
        "        E = 0\n",
        "        epochs = 0\n",
        "        while True:\n",
        "            for idx, x_i in enumerate(X):\n",
        "                y_predicted = self.predict(x_i)\n",
        "\n",
        "                # Update weights and bias using delta rule\n",
        "                update = self.lr * (y[idx] - y_predicted)\n",
        "                self.weights += update * x_i\n",
        "                self.bias += update\n",
        "                E += 0.5 * (y[idx] - y_predicted) ** 2\n",
        "            epochs += 1\n",
        "\n",
        "            if self.is_print:\n",
        "                print(f\"Epochs {epochs}, E={E}\")\n",
        "\n",
        "            if E < self.epsilon:\n",
        "                break\n",
        "            else:\n",
        "                E = 0\n",
        "\n",
        "    def predict(self, X: np.ndarray) -> np.ndarray:\n",
        "        net = np.dot(X, self.weights) + self.bias\n",
        "        return self.activation_func(net)"
      ]
    },
    {
      "cell_type": "markdown",
      "metadata": {},
      "source": [
        "### Train the Model"
      ]
    },
    {
      "cell_type": "code",
      "execution_count": 352,
      "metadata": {},
      "outputs": [],
      "source": [
        "prod_train = pd.read_csv(\"data/prod-train.csv\")"
      ]
    },
    {
      "cell_type": "code",
      "execution_count": 353,
      "metadata": {},
      "outputs": [],
      "source": [
        "X = prod_train[[\"Width\", \"Height\"]].values\n",
        "Y = prod_train[\"Type\"].map(type_mappings).values"
      ]
    },
    {
      "cell_type": "code",
      "execution_count": 354,
      "metadata": {},
      "outputs": [],
      "source": [
        "X_train, X_test, y_train, y_test = train_test_split(\n",
        "    X, Y, test_size=0.2, random_state=69\n",
        ")"
      ]
    },
    {
      "cell_type": "code",
      "execution_count": 355,
      "metadata": {},
      "outputs": [
        {
          "name": "stdout",
          "output_type": "stream",
          "text": [
            "lr=0.01: mse=0.0\n",
            "lr=0.02: mse=0.0\n",
            "lr=0.001: mse=0.0\n",
            "lr=0.002: mse=0.0\n"
          ]
        },
        {
          "data": {
            "image/png": "[encoded data removed]",
            "text/plain": [
              "<Figure size 640x480 with 1 Axes>"
            ]
          },
          "metadata": {},
          "output_type": "display_data"
        }
      ],
      "source": [
        "for lr in [0.01, 0.02, 0.001, 0.002]:\n",
        "    p = PerceptronE(learning_rate=lr, epsilon=0.5, act=linear, is_print=False)\n",
        "    p.fit(X_train, y_train)\n",
        "\n",
        "    y_pred = np.round(p.predict(X_test))\n",
        "\n",
        "    print(f\"lr={lr}: mse={mean_squared_error(y_test, y_pred)}\")\n",
        "    plt.plot(X_test, y_pred, label=f\"lr={lr}\")\n",
        "\n",
        "plt.legend()\n",
        "plt.show()"
      ]
    },
    {
      "cell_type": "markdown",
      "metadata": {},
      "source": [
        "### Test the Model"
      ]
    },
    {
      "cell_type": "code",
      "execution_count": 356,
      "metadata": {},
      "outputs": [],
      "source": [
        "test = pd.read_csv(\"data/prod-test.csv\")"
      ]
    },
    {
      "cell_type": "code",
      "execution_count": 357,
      "metadata": {},
      "outputs": [
        {
          "name": "stdout",
          "output_type": "stream",
          "text": [
            "Epochs 1, E=0.9953803665750861\n",
            "Epochs 2, E=0.8927755259469494\n",
            "Epochs 3, E=0.8237166916883285\n",
            "Epochs 4, E=0.7764399312946673\n",
            "Epochs 5, E=0.7433083809773295\n",
            "Epochs 6, E=0.7193690260754736\n",
            "Epochs 7, E=0.7014130732177658\n",
            "Epochs 8, E=0.6873644217722225\n",
            "Epochs 9, E=0.675881850869033\n",
            "Epochs 10, E=0.6661003778644834\n",
            "Epochs 11, E=0.6574632153655604\n",
            "Epochs 12, E=0.6496126828975849\n",
            "Epochs 13, E=0.6423194629243176\n",
            "Epochs 14, E=0.6354367812110826\n",
            "Epochs 15, E=0.6288707764156175\n",
            "Epochs 16, E=0.6225613756459335\n",
            "Epochs 17, E=0.6164699802750786\n",
            "Epochs 18, E=0.6105715603156846\n",
            "Epochs 19, E=0.6048495978186643\n",
            "Epochs 20, E=0.599292867598298\n",
            "Epochs 21, E=0.5938933997612321\n",
            "Epochs 22, E=0.5886451999233533\n",
            "Epochs 23, E=0.5835434532154703\n",
            "Epochs 24, E=0.5785840355902052\n",
            "Epochs 25, E=0.5737632190301012\n",
            "Epochs 26, E=0.5690774980503787\n",
            "Epochs 27, E=0.5645234912157493\n",
            "Epochs 28, E=0.5600978883387154\n",
            "Epochs 29, E=0.5557974249043337\n",
            "Epochs 30, E=0.5516188722210988\n",
            "Epochs 31, E=0.54755903622266\n",
            "Epochs 32, E=0.5436147606431316\n",
            "Epochs 33, E=0.5397829320438989\n",
            "Epochs 34, E=0.5360604852591022\n",
            "Epochs 35, E=0.5324444084934966\n",
            "Epochs 36, E=0.5289317477061927\n",
            "Epochs 37, E=0.5255196101468655\n",
            "Epochs 38, E=0.5222051670410914\n",
            "Epochs 39, E=0.5189856554888668\n",
            "Epochs 40, E=0.5158583796705127\n",
            "Epochs 41, E=0.5128207114628688\n",
            "Epochs 42, E=0.5098700905656354\n",
            "Epochs 43, E=0.5070040242288858\n",
            "Epochs 44, E=0.5042200866614927\n",
            "Epochs 45, E=0.5015159181885517\n",
            "Epochs 46, E=0.4988892242148381\n"
          ]
        }
      ],
      "source": [
        "p = PerceptronE(learning_rate=0.01, epsilon=0.5, act=linear)\n",
        "p.fit(X, Y)"
      ]
    },
    {
      "cell_type": "code",
      "execution_count": 358,
      "metadata": {},
      "outputs": [
        {
          "data": {
            "text/html": [
              "<div>\n",
              "<style scoped>\n",
              "    .dataframe tbody tr th:only-of-type {\n",
              "        vertical-align: middle;\n",
              "    }\n",
              "\n",
              "    .dataframe tbody tr th {\n",
              "        vertical-align: top;\n",
              "    }\n",
              "\n",
              "    .dataframe thead th {\n",
              "        text-align: right;\n",
              "    }\n",
              "</style>\n",
              "<table border=\"1\" class=\"dataframe\">\n",
              "  <thead>\n",
              "    <tr style=\"text-align: right;\">\n",
              "      <th></th>\n",
              "      <th>Width</th>\n",
              "      <th>Height</th>\n",
              "      <th>Type</th>\n",
              "    </tr>\n",
              "  </thead>\n",
              "  <tbody>\n",
              "    <tr>\n",
              "      <th>0</th>\n",
              "      <td>0.35</td>\n",
              "      <td>0.35</td>\n",
              "      <td>Chair</td>\n",
              "    </tr>\n",
              "    <tr>\n",
              "      <th>1</th>\n",
              "      <td>0.85</td>\n",
              "      <td>0.70</td>\n",
              "      <td>Table</td>\n",
              "    </tr>\n",
              "    <tr>\n",
              "      <th>2</th>\n",
              "      <td>1.40</td>\n",
              "      <td>0.45</td>\n",
              "      <td>Bed</td>\n",
              "    </tr>\n",
              "  </tbody>\n",
              "</table>\n",
              "</div>"
            ],
            "text/plain": [
              "   Width  Height   Type\n",
              "0   0.35    0.35  Chair\n",
              "1   0.85    0.70  Table\n",
              "2   1.40    0.45    Bed"
            ]
          },
          "execution_count": 358,
          "metadata": {},
          "output_type": "execute_result"
        }
      ],
      "source": [
        "y_pred = np.round(p.predict(prod_test.values))\n",
        "pd.DataFrame(\n",
        "    {\"Width\": prod_test[\"Width\"], \"Height\": prod_test[\"Height\"], \"Type\": y_pred}\n",
        ").replace({v: k for k, v in type_mappings.items()})"
      ]
    },
    {
      "cell_type": "markdown",
      "metadata": {},
      "source": [
        "## And Gate Prediction"
      ]
    },
    {
      "cell_type": "code",
      "execution_count": 359,
      "metadata": {},
      "outputs": [],
      "source": [
        "p = Perceptron(learning_rate=0.01, n_iters=1000, act=step)\n",
        "pe = PerceptronE(learning_rate=0.01, epsilon=0.5, act=step)"
      ]
    },
    {
      "cell_type": "code",
      "execution_count": 360,
      "metadata": {},
      "outputs": [],
      "source": [
        "prod_train = [[0, 0, 0], [0, 1, 0], [1, 0, 0], [1, 1, 1]]\n",
        "and_gate = pd.DataFrame(prod_train, columns=[\"X1\", \"X2\", \"Y\"])"
      ]
    },
    {
      "cell_type": "code",
      "execution_count": 361,
      "metadata": {},
      "outputs": [
        {
          "name": "stdout",
          "output_type": "stream",
          "text": [
            "Epochs 1, E=1.5\n",
            "Epochs 2, E=1.0\n",
            "Epochs 3, E=1.0\n",
            "Epochs 4, E=1.0\n",
            "Epochs 5, E=1.0\n",
            "Epochs 6, E=1.0\n",
            "Epochs 7, E=1.0\n",
            "Epochs 8, E=1.0\n",
            "Epochs 9, E=1.0\n",
            "Epochs 10, E=1.0\n",
            "Epochs 11, E=1.0\n",
            "Epochs 12, E=1.0\n",
            "Epochs 13, E=1.0\n",
            "Epochs 14, E=1.0\n",
            "Epochs 15, E=1.0\n",
            "Epochs 16, E=1.0\n",
            "Epochs 17, E=1.0\n",
            "Epochs 18, E=1.0\n",
            "Epochs 19, E=1.0\n",
            "Epochs 20, E=1.0\n",
            "Epochs 21, E=0.5\n",
            "Epochs 22, E=0.5\n",
            "Epochs 23, E=0.5\n",
            "Epochs 24, E=0.5\n",
            "Epochs 25, E=0.5\n",
            "Epochs 26, E=0.5\n",
            "Epochs 27, E=0.5\n",
            "Epochs 28, E=0.5\n",
            "Epochs 29, E=0.5\n",
            "Epochs 30, E=0.5\n",
            "Epochs 31, E=0.5\n",
            "Epochs 32, E=0.0\n"
          ]
        }
      ],
      "source": [
        "p.fit(and_gate[[\"X1\", \"X2\"]].values, and_gate[\"Y\"].values)\n",
        "pe.fit(and_gate[[\"X1\", \"X2\"]].values, and_gate[\"Y\"].values)"
      ]
    },
    {
      "cell_type": "code",
      "execution_count": 362,
      "metadata": {},
      "outputs": [],
      "source": [
        "y_pred = np.round(p.predict(and_gate[[\"X1\", \"X2\"]].values))\n",
        "y_pred_e = np.round(pe.predict(and_gate[[\"X1\", \"X2\"]].values))"
      ]
    },
    {
      "cell_type": "code",
      "execution_count": 363,
      "metadata": {},
      "outputs": [
        {
          "name": "stdout",
          "output_type": "stream",
          "text": [
            "Perceptron: mse=0.0\n",
            "PerceptronE: mse=0.0\n"
          ]
        },
        {
          "data": {
            "text/html": [
              "<div>\n",
              "<style scoped>\n",
              "    .dataframe tbody tr th:only-of-type {\n",
              "        vertical-align: middle;\n",
              "    }\n",
              "\n",
              "    .dataframe tbody tr th {\n",
              "        vertical-align: top;\n",
              "    }\n",
              "\n",
              "    .dataframe thead th {\n",
              "        text-align: right;\n",
              "    }\n",
              "</style>\n",
              "<table border=\"1\" class=\"dataframe\">\n",
              "  <thead>\n",
              "    <tr style=\"text-align: right;\">\n",
              "      <th></th>\n",
              "      <th>X1</th>\n",
              "      <th>X2</th>\n",
              "      <th>Y</th>\n",
              "      <th>Y_pred</th>\n",
              "      <th>Y_pred_e</th>\n",
              "    </tr>\n",
              "  </thead>\n",
              "  <tbody>\n",
              "    <tr>\n",
              "      <th>0</th>\n",
              "      <td>0</td>\n",
              "      <td>0</td>\n",
              "      <td>0</td>\n",
              "      <td>0</td>\n",
              "      <td>0</td>\n",
              "    </tr>\n",
              "    <tr>\n",
              "      <th>1</th>\n",
              "      <td>0</td>\n",
              "      <td>1</td>\n",
              "      <td>0</td>\n",
              "      <td>0</td>\n",
              "      <td>0</td>\n",
              "    </tr>\n",
              "    <tr>\n",
              "      <th>2</th>\n",
              "      <td>1</td>\n",
              "      <td>0</td>\n",
              "      <td>0</td>\n",
              "      <td>0</td>\n",
              "      <td>0</td>\n",
              "    </tr>\n",
              "    <tr>\n",
              "      <th>3</th>\n",
              "      <td>1</td>\n",
              "      <td>1</td>\n",
              "      <td>1</td>\n",
              "      <td>1</td>\n",
              "      <td>1</td>\n",
              "    </tr>\n",
              "  </tbody>\n",
              "</table>\n",
              "</div>"
            ],
            "text/plain": [
              "   X1  X2  Y  Y_pred  Y_pred_e\n",
              "0   0   0  0       0         0\n",
              "1   0   1  0       0         0\n",
              "2   1   0  0       0         0\n",
              "3   1   1  1       1         1"
            ]
          },
          "execution_count": 363,
          "metadata": {},
          "output_type": "execute_result"
        }
      ],
      "source": [
        "print(f\"Perceptron: mse={mean_squared_error(and_gate['Y'], y_pred)}\")\n",
        "print(f\"PerceptronE: mse={mean_squared_error(and_gate['Y'], y_pred_e)}\")\n",
        "pd.DataFrame(\n",
        "    {\n",
        "        \"X1\": and_gate[\"X1\"],\n",
        "        \"X2\": and_gate[\"X2\"],\n",
        "        \"Y\": and_gate[\"Y\"],\n",
        "        \"Y_pred\": y_pred,\n",
        "        \"Y_pred_e\": y_pred_e,\n",
        "    }\n",
        ")"
      ]
    }
  ],
  "metadata": {
    "colab": {
      "provenance": []
    },
    "kernelspec": {
      "display_name": "main",
      "language": "python",
      "name": "python3"
    },
    "language_info": {
      "codemirror_mode": {
        "name": "ipython",
        "version": 3
      },
      "file_extension": ".py",
      "mimetype": "text/x-python",
      "name": "python",
      "nbconvert_exporter": "python",
      "pygments_lexer": "ipython3",
      "version": "3.12.2"
    }
  },
  "nbformat": 4,
  "nbformat_minor": 0
}
